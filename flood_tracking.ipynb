{
 "cells": [
  {
   "cell_type": "markdown",
   "metadata": {
    "collapsed": false
   },
   "source": [
    "# Sunny Day Flooding Project Flood Event Tracker"
   ]
  },
  {
   "cell_type": "markdown",
   "metadata": {
    "collapsed": false
   },
   "source": [
    "### Import Necessary Libraries and Functions"
   ]
  },
  {
   "cell_type": "code",
   "execution_count": 5,
   "metadata": {
    "ExecuteTime": {
     "end_time": "2024-02-13T13:54:55.790562Z",
     "start_time": "2024-02-13T13:54:55.252467Z"
    },
    "collapsed": true
   },
   "outputs": [],
   "source": [
    "from datetime import datetime\n",
    "\n",
    "import pandas as pd\n",
    "\n",
    "from utils import *"
   ]
  },
  {
   "cell_type": "markdown",
   "metadata": {
    "collapsed": false
   },
   "source": [
    "### Set Necessary Variables"
   ]
  },
  {
   "cell_type": "code",
   "execution_count": 6,
   "metadata": {
    "ExecuteTime": {
     "end_time": "2024-02-13T13:54:58.768486Z",
     "start_time": "2024-02-13T13:54:58.763782Z"
    },
    "collapsed": false
   },
   "outputs": [],
   "source": [
    "# These authorization details are the Sunny Day Flooding Project Water Level API username and password\n",
    "\n",
    "# DO NOT SHARE THESE DETAILS PUBLICLY\n",
    "authorization = (\"\")\n",
    "# DO NOT SHARE THESE DETAILS PUBLICLY"
   ]
  },
  {
   "cell_type": "code",
   "execution_count": 7,
   "metadata": {
    "ExecuteTime": {
     "end_time": "2024-02-13T13:59:25.087208Z",
     "start_time": "2024-02-13T13:59:25.080892Z"
    },
    "collapsed": false
   },
   "outputs": [],
   "source": [
    "# Choose sensor location e.g. 'Beaufort', 'Carolina Beach', 'Down East', 'New Bern'\n",
    "# Or provide sensor ID e.g. ['CB_01', 'DE_02']\n",
    "location = ['CB_01']\n",
    "\n",
    "# Set the beginning and ending dates to pull data (YYYY, MM, DD)\n",
    "total_min_date = datetime(2023, 8, 1)\n",
    "total_max_date = datetime(2024, 8, 1)"
   ]
  },
  {
   "cell_type": "markdown",
   "metadata": {
    "collapsed": false
   },
   "source": [
    "### Generate CSVs and Plots"
   ]
  },
  {
   "cell_type": "code",
   "execution_count": 8,
   "metadata": {
    "ExecuteTime": {
     "end_time": "2024-02-13T14:04:16.488811Z",
     "start_time": "2024-02-13T13:59:28.095252Z"
    },
    "collapsed": false
   },
   "outputs": [
    {
     "name": "stdout",
     "output_type": "stream",
     "text": [
      "Downloading data from the SunnyD API for ['CB_01']... \n",
      "Here is your data, human. Sincerely, 🤖\n",
      "Generating CSVs...\n",
      "CSV files created successfully.\n",
      "Checking for sensor outages...\n",
      "An error occurred: 'start_time_UTC'\n",
      "Plotting flood events...\n",
      "Folder flood_plots already exists.\n",
      "Plot already exists: flood_plots\\flood_event_7_CB_01.png\n",
      "Plot already exists: flood_plots\\flood_event_9_CB_01.png\n",
      "Plot already exists: flood_plots\\flood_event_10_CB_01.png\n",
      "Plot already exists: flood_plots\\flood_event_11_CB_01.png\n",
      "Plot already exists: flood_plots\\flood_event_12_CB_01.png\n",
      "Plot already exists: flood_plots\\flood_event_13_CB_01.png\n",
      "Plot already exists: flood_plots\\flood_event_14_CB_01.png\n",
      "Plot already exists: flood_plots\\flood_event_15_CB_01.png\n",
      "Plot already exists: flood_plots\\flood_event_16_CB_01.png\n",
      "Plot already exists: flood_plots\\flood_event_17_CB_01.png\n",
      "Plot already exists: flood_plots\\flood_event_18_CB_01.png\n",
      "Plot already exists: flood_plots\\flood_event_20_CB_01.png\n",
      "Plot already exists: flood_plots\\flood_event_25_CB_01.png\n",
      "Plot already exists: flood_plots\\flood_event_28_CB_01.png\n",
      "Plot already exists: flood_plots\\flood_event_30_CB_01.png\n",
      "Plot already exists: flood_plots\\flood_event_31_CB_01.png\n",
      "Plot already exists: flood_plots\\flood_event_32_CB_01.png\n",
      "Plot already exists: flood_plots\\flood_event_33_CB_01.png\n",
      "Plot already exists: flood_plots\\flood_event_34_CB_01.png\n",
      "Plot already exists: flood_plots\\flood_event_35_CB_01.png\n",
      "Plot already exists: flood_plots\\flood_event_37_CB_01.png\n",
      "Plot already exists: flood_plots\\flood_event_39_CB_01.png\n",
      "Plot already exists: flood_plots\\flood_event_41_CB_01.png\n",
      "Plot already exists: flood_plots\\flood_event_42_CB_01.png\n",
      "Plot already exists: flood_plots\\flood_event_48_CB_01.png\n",
      "Plot already exists: flood_plots\\flood_event_51_CB_01.png\n",
      "Plot already exists: flood_plots\\flood_event_52_CB_01.png\n",
      "Plot already exists: flood_plots\\flood_event_53_CB_01.png\n",
      "Plotting completed.\n"
     ]
    }
   ],
   "source": [
    "# Run the following to generate CSVs and flood event plots\n",
    "sunnyd_data = pull_data_gen_csvs_and_plots(authorization, location, total_min_date, total_max_date)"
   ]
  },
  {
   "cell_type": "code",
   "execution_count": 9,
   "metadata": {
    "collapsed": false
   },
   "outputs": [
    {
     "name": "stdout",
     "output_type": "stream",
     "text": [
      "Number of days of flooding: 47\n"
     ]
    }
   ],
   "source": [
    "num_of_flood_days()"
   ]
  }
 ],
 "metadata": {
  "kernelspec": {
   "display_name": "Python 3",
   "language": "python",
   "name": "python3"
  },
  "language_info": {
   "codemirror_mode": {
    "name": "ipython",
    "version": 3
   },
   "file_extension": ".py",
   "mimetype": "text/x-python",
   "name": "python",
   "nbconvert_exporter": "python",
   "pygments_lexer": "ipython3",
   "version": "3.9.19"
  }
 },
 "nbformat": 4,
 "nbformat_minor": 0
}
