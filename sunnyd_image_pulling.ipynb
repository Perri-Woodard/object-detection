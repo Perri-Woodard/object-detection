{
 "cells": [
  {
   "cell_type": "code",
   "execution_count": 22,
   "metadata": {},
   "outputs": [],
   "source": [
    "from photo_utils import *\n",
    "import pandas as pd"
   ]
  },
  {
   "cell_type": "code",
   "execution_count": 23,
   "metadata": {},
   "outputs": [],
   "source": [
    "# Research storage path after mounting to local computer. VPN must be connected if not on university network.\n",
    "# Instructions for mounting research storage can be found at https://research.oit.ncsu.edu/docs/storage/access/mount/\n",
    "\n",
    "drive = r''"
   ]
  },
  {
   "cell_type": "code",
   "execution_count": 24,
   "metadata": {},
   "outputs": [],
   "source": [
    "from datetime import timedelta\n",
    "\n",
    "# Read in flood events CSV\n",
    "flood_events = pd.read_csv(r\"C:\\Users\\pawoo\\OneDrive\\Documents\\Coastal_Hazards_Lab_Stuff\\Research_Project_Items_and_Python\\SDF\\Water_Quality_Images\\Scripts\\abbr_flood_events.csv\")\n",
    "\n",
    "# Convert times from strings to datetimes\n",
    "flood_events['start_time_UTC'] = pd.to_datetime(flood_events['start_time_UTC'])\n",
    "flood_events['end_time_UTC'] = pd.to_datetime(flood_events['end_time_UTC'])\n",
    "\n",
    "# Create a new row with the start and end dates 1 day prior to the first event\n",
    "first_event = flood_events.iloc[0].copy()  # Get the first event\n",
    "first_event['start_time_UTC'] = first_event['start_time_UTC'] - timedelta(days=1)  # Adjust start time to 1 day earlier\n",
    "first_event['end_time_UTC'] = first_event['start_time_UTC'] + timedelta(days=1)  # Adjust end time to 1 day earlier\n",
    "first_event['flood_event'] = 0  # Set the event title for the new row\n",
    "\n",
    "# Append the new row to the DataFrame\n",
    "flood_events = pd.concat([pd.DataFrame([first_event]), flood_events], ignore_index=True)\n",
    "\n",
    "# Save the updated DataFrame back to the CSV\n",
    "flood_events.to_csv(r\"C:\\Users\\pawoo\\OneDrive\\Documents\\Coastal_Hazards_Lab_Stuff\\Research_Project_Items_and_Python\\SDF\\Water_Quality_Images\\Scripts\\updated_flood_events.csv\", index=False)\n",
    "\n",
    "\n",
    "# Read in flood events csv- make sure csv reflects titled of updated one (with day prior imagery)\n",
    "flood_events = pd.read_csv(r\"C:\\Users\\pawoo\\OneDrive\\Documents\\Coastal_Hazards_Lab_Stuff\\Research_Project_Items_and_Python\\SDF\\Water_Quality_Images\\Scripts\\updated_flood_events.csv\")\n",
    "# Convert times from strings to datetimes\n",
    "flood_events['start_time_UTC'] = pd.to_datetime(flood_events['start_time_UTC'])\n",
    "flood_events['end_time_UTC'] = pd.to_datetime(flood_events['end_time_UTC'])\n",
    "\n",
    "# Create camera ID column because sensor images are stored with camera name.\n",
    "flood_events['camera_ID'] = 'CAM_' + flood_events['sensor_ID']\n",
    "\n",
    "# Drop unnecessary columns from dataframe\n",
    "columns_to_keep = ['camera_ID', 'start_time_UTC', 'end_time_UTC']\n",
    "flood_events.drop(columns=[col for col in flood_events.columns if col not in columns_to_keep], inplace=True)\n"
   ]
  },
  {
   "cell_type": "code",
   "execution_count": 25,
   "metadata": {},
   "outputs": [],
   "source": [
    "# Truncate flood event sheet for demonstration purposes\n",
    "flood_events_test = flood_events"
   ]
  },
  {
   "cell_type": "code",
   "execution_count": 26,
   "metadata": {},
   "outputs": [
    {
     "name": "stderr",
     "output_type": "stream",
     "text": [
      "Processing rows: 100%|██████████| 55/55 [00:08<00:00,  6.56it/s]\n",
      "Copying files: 100%|██████████| 1520/1520 [09:11<00:00,  2.76it/s]\n"
     ]
    }
   ],
   "source": [
    "# Pull images corresponding to flood events\n",
    "pull_files(flood_events_test, drive, 'CB_01_images')\n"
   ]
  },
  {
   "cell_type": "code",
   "execution_count": 27,
   "metadata": {},
   "outputs": [
    {
     "name": "stderr",
     "output_type": "stream",
     "text": [
      "Copying files: 100%|██████████| 1006/1006 [00:12<00:00, 79.65it/s]\n"
     ]
    }
   ],
   "source": [
    "copy_daylight_images(r\"C:\\Users\\pawoo\\OneDrive\\Documents\\Coastal_Hazards_Lab_Stuff\\Research_Project_Items_and_Python\\SDF\\Water_Quality_Images\\Scripts\\CB_01_images\")"
   ]
  },
  {
   "cell_type": "code",
   "execution_count": null,
   "metadata": {},
   "outputs": [],
   "source": []
  }
 ],
 "metadata": {
  "kernelspec": {
   "display_name": "general",
   "language": "python",
   "name": "python3"
  },
  "language_info": {
   "codemirror_mode": {
    "name": "ipython",
    "version": 3
   },
   "file_extension": ".py",
   "mimetype": "text/x-python",
   "name": "python",
   "nbconvert_exporter": "python",
   "pygments_lexer": "ipython3",
   "version": "3.9.19"
  }
 },
 "nbformat": 4,
 "nbformat_minor": 2
}
